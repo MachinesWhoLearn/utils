{
 "cells": [
  {
   "cell_type": "code",
   "execution_count": 10,
   "metadata": {
    "collapsed": false
   },
   "outputs": [],
   "source": [
    "from __future__ import print_function\n",
    "%matplotlib inline\n",
    "import matplotlib.pyplot as plt\n",
    "import matplotlib\n",
    "matplotlib.style.use('ggplot')\n",
    "from sklearn import metrics\n",
    "from sklearn.externals import joblib\n",
    "from os import listdir"
   ]
  },
  {
   "cell_type": "code",
   "execution_count": 11,
   "metadata": {
    "collapsed": true
   },
   "outputs": [],
   "source": [
    "MODEL_DIRECTORY = \"models/\"\n",
    "TEST_DATA = \"test_data.p\""
   ]
  },
  {
   "cell_type": "code",
   "execution_count": 12,
   "metadata": {
    "collapsed": true
   },
   "outputs": [],
   "source": [
    "test_data = joblib.load(TEST_DATA)\n",
    "X_test = test_data.data\n",
    "y_test = test_data.target"
   ]
  },
  {
   "cell_type": "code",
   "execution_count": 13,
   "metadata": {
    "collapsed": false
   },
   "outputs": [],
   "source": [
    "models = listdir(MODEL_DIRECTORY)"
   ]
  },
  {
   "cell_type": "code",
   "execution_count": 14,
   "metadata": {
    "collapsed": false
   },
   "outputs": [],
   "source": [
    "results = []\n",
    "for m in models:\n",
    "    name = \".\".join(m.split(\".\")[:-1])\n",
    "    model = joblib.load(MODEL_DIRECTORY + m)\n",
    "    predictions = model.predict(X_test)\n",
    "    predictions_proba = model.predict_proba(X_test)\n",
    "    # metrics\n",
    "    model_accuracy = model.score(X_test, y_test)\n",
    "    model_log_loss = metrics.log_loss(y_test, predictions_proba)\n",
    "    model_precision = metrics.precision_score(y_test, predictions, average='micro')\n",
    "    model_recall = metrics.recall_score(y_test, predictions, average='micro')\n",
    "    model_confusion = metrics.confusion_matrix(y_test, predictions)\n",
    "    model_results = {'name': name, \n",
    "                     'predictions': predictions,\n",
    "                     'predictions_proba': predictions_proba,\n",
    "                     'accuracy': model_accuracy, \n",
    "                     'avg_log_loss': model_log_loss,\n",
    "                     'precision': model_precision,\n",
    "                     'recall': model_recall,\n",
    "                     'confusion_matrix': model_confusion,\n",
    "                    }\n",
    "    results.append(model_results)"
   ]
  },
  {
   "cell_type": "code",
   "execution_count": 15,
   "metadata": {
    "collapsed": false
   },
   "outputs": [],
   "source": [
    "accuracy_leaderboard = sorted([(r['name'], r['accuracy']) for r in results], \n",
    "                            key=lambda x : x[1], reverse=True)\n",
    "log_loss_leaderboard = sorted([(r['name'], r['avg_log_loss']) for r in results], \n",
    "                            key=lambda x: x[1])\n",
    "precision_leaderboard = sorted([(r['name'], r['precision']) for r in results], \n",
    "                             key=lambda x: x[1], reverse=True)\n",
    "recall_leaderboard = sorted([(r['name'], r['recall']) for r in results], \n",
    "                          key=lambda x: x[1], reverse=True)"
   ]
  },
  {
   "cell_type": "code",
   "execution_count": 17,
   "metadata": {
    "collapsed": false
   },
   "outputs": [],
   "source": [
    "def plot_leaderboard(leaderboard):\n",
    "    ax = plt.subplot()\n",
    "    ax.bar(left=range(len(leaderboard)), \n",
    "        height=[i[1] for i in leaderboard],\n",
    "        width=1/1.5, color='black', align='center')\n",
    "    ax.set_ylim(min([i[1] for i in leaderboard]) - 0.02,\n",
    "           max([i[1] for i in leaderboard]) + 0.02)\n",
    "    ax.set_xticks(range(len(leaderboard)))\n",
    "    ax.set_xticklabels([i[0] for i in leaderboard])\n",
    "    plt.show()"
   ]
  },
  {
   "cell_type": "code",
   "execution_count": 19,
   "metadata": {
    "collapsed": false
   },
   "outputs": [
    {
     "data": {
      "image/png": "[encoded data removed]",
      "text/plain": [
       "<matplotlib.figure.Figure at 0x7f9dec542978>"
      ]
     },
     "metadata": {},
     "output_type": "display_data"
    }
   ],
   "source": [
    "plot_leaderboard(accuracy_leaderboard)"
   ]
  },
  {
   "cell_type": "code",
   "execution_count": 20,
   "metadata": {
    "collapsed": false
   },
   "outputs": [
    {
     "data": {
      "image/png": "[encoded data removed]",
      "text/plain": [
       "<matplotlib.figure.Figure at 0x7f9dec4b7240>"
      ]
     },
     "metadata": {},
     "output_type": "display_data"
    }
   ],
   "source": [
    "plot_leaderboard(log_loss_leaderboard)"
   ]
  }
 ],
 "metadata": {
  "anaconda-cloud": {},
  "kernelspec": {
   "display_name": "Python [conda env:mwl]",
   "language": "python",
   "name": "conda-env-mwl-py"
  },
  "language_info": {
   "codemirror_mode": {
    "name": "ipython",
    "version": 3
   },
   "file_extension": ".py",
   "mimetype": "text/x-python",
   "name": "python",
   "nbconvert_exporter": "python",
   "pygments_lexer": "ipython3",
   "version": "3.5.2"
  }
 },
 "nbformat": 4,
 "nbformat_minor": 1
}
